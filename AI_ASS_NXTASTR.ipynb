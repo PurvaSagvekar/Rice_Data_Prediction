{
 "cells": [
  {
   "cell_type": "code",
   "execution_count": 15,
   "id": "1b465a06-7c0d-499d-92df-8a667a61ea47",
   "metadata": {},
   "outputs": [
    {
     "name": "stderr",
     "output_type": "stream",
     "text": [
      "WARNING:absl:Compiled the loaded model, but the compiled metrics have yet to be built. `model.compile_metrics` will be empty until you train or evaluate the model.\n"
     ]
    },
    {
     "name": "stdout",
     "output_type": "stream",
     "text": [
      "\u001b[1m1/1\u001b[0m \u001b[32m━━━━━━━━━━━━━━━━━━━━\u001b[0m\u001b[37m\u001b[0m \u001b[1m0s\u001b[0m 153ms/step\n",
      "Prediction: [[0. 0. 0. 1. 0.]]\n"
     ]
    }
   ],
   "source": [
    "from tensorflow.keras.models import load_model\n",
    "from tensorflow.keras.preprocessing import image\n",
    "import numpy as np\n",
    "\n",
    "# Load model\n",
    "model = load_model(\"C:\\\\Users\\\\psagv\\\\OneDrive\\\\Desktop\\\\Rice_data\\\\model.h5\")\n",
    "\n",
    "# Load and preprocess the image\n",
    "img_path = \"C:\\\\Users\\\\psagv\\\\OneDrive\\\\Desktop\\\\Rice_data\\\\image.jpeg\"\n",
    "img = image.load_img(img_path, target_size=(128, 128))  # Resize\n",
    "img_array = image.img_to_array(img)                     # Convert to array (128,128,3)\n",
    "img_array = img_array / 255.0                           # Normalize\n",
    "img_array = np.expand_dims(img_array, axis=0)           # (1, 128, 128, 3)\n",
    "\n",
    "# Make prediction\n",
    "prediction = model.predict(img_array)\n",
    "print(\"Prediction:\", prediction)\n"
   ]
  },
  {
   "cell_type": "code",
   "execution_count": 17,
   "id": "cf131168-ae35-4aea-9683-388a81e236b1",
   "metadata": {},
   "outputs": [
    {
     "name": "stderr",
     "output_type": "stream",
     "text": [
      "WARNING:absl:Compiled the loaded model, but the compiled metrics have yet to be built. `model.compile_metrics` will be empty until you train or evaluate the model.\n"
     ]
    },
    {
     "name": "stdout",
     "output_type": "stream",
     "text": [
      "\u001b[1m1/1\u001b[0m \u001b[32m━━━━━━━━━━━━━━━━━━━━\u001b[0m\u001b[37m\u001b[0m \u001b[1m0s\u001b[0m 150ms/step\n",
      "Prediction vector: [[0. 0. 0. 1. 0.]]\n"
     ]
    }
   ],
   "source": [
    "from tensorflow.keras.models import load_model\n",
    "from tensorflow.keras.preprocessing import image\n",
    "import numpy as np\n",
    "\n",
    "# Load your model\n",
    "model = load_model(\"C:\\\\Users\\\\psagv\\\\OneDrive\\\\Desktop\\\\Rice_data\\\\model.h5\")\n",
    "\n",
    "# Load image, force RGB, resize to (128, 128)\n",
    "img_path = \"C:\\\\Users\\\\psagv\\\\OneDrive\\\\Desktop\\\\Rice_data\\\\image.jpeg\"  # path to your captured image\n",
    "img = image.load_img(img_path, target_size=(128, 128))  # Always returns RGB image\n",
    "\n",
    "# Convert image to numpy array and scale\n",
    "img_array = image.img_to_array(img)         # shape: (128, 128, 3)\n",
    "img_array = img_array / 255.0               # Normalize pixel values (if model expects it)\n",
    "\n",
    "# Add batch dimension\n",
    "img_array = np.expand_dims(img_array, axis=0)  # shape: (1, 128, 128, 3)\n",
    "\n",
    "# Predict\n",
    "prediction = model.predict(img_array)\n",
    "print(\"Prediction vector:\", prediction)\n"
   ]
  },
  {
   "cell_type": "code",
   "execution_count": null,
   "id": "05561826-6748-4f2e-82fb-2ad949e5ee03",
   "metadata": {},
   "outputs": [],
   "source": []
  }
 ],
 "metadata": {
  "kernelspec": {
   "display_name": "Python 3 (ipykernel)",
   "language": "python",
   "name": "python3"
  },
  "language_info": {
   "codemirror_mode": {
    "name": "ipython",
    "version": 3
   },
   "file_extension": ".py",
   "mimetype": "text/x-python",
   "name": "python",
   "nbconvert_exporter": "python",
   "pygments_lexer": "ipython3",
   "version": "3.12.7"
  }
 },
 "nbformat": 4,
 "nbformat_minor": 5
}
